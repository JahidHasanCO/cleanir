{
 "cells": [
  {
   "cell_type": "code",
   "execution_count": 1,
   "metadata": {},
   "outputs": [
    {
     "name": "stderr",
     "output_type": "stream",
     "text": [
      "Using TensorFlow backend.\n"
     ]
    }
   ],
   "source": [
    "import numpy as np\n",
    "import pandas as pd\n",
    "import matplotlib.pyplot as plt\n",
    "import matplotlib\n",
    "%matplotlib inline\n",
    "from ipywidgets import interact, interactive, fixed, interact_manual\n",
    "import ipywidgets as widgets\n",
    "from cleanir.cleanir import Cleanir\n",
    "from cleanir.tools.crop_face import *"
   ]
  },
  {
   "cell_type": "markdown",
   "metadata": {},
   "source": [
    "# Getting started with setting paths\n",
    "If you have model and/or datasets, you may put that path to variables below. \n",
    "Or you may put desired path to the variables below and download them in next cells.\n",
    "\n",
    "- MODEL_PATH: CLEANIR model path.\n",
    "- LFW_PATH: path of [LFW (Labeled Faces in the Wild)](http://vis-www.cs.umass.edu/lfw/) dataset for evaluation on de-identification.\n",
    "- JAFFE_PATH: path of [JAFFE (Japaneses Female Facial Expression)](https://zenodo.org/record/3451524) dataset for evaluation on preserving facial attributes"
   ]
  },
  {
   "cell_type": "code",
   "execution_count": 2,
   "metadata": {},
   "outputs": [],
   "source": [
    "MODEL_PATH = './model'\n",
    "LFW_PATH = './data/lfw'\n",
    "JAFFE_PATH = './data/jaffe'"
   ]
  },
  {
   "cell_type": "markdown",
   "metadata": {},
   "source": [
    "# Prepare a sample image and face detector\n",
    "Due to the fact that we use CNN based face detector, we should load the face detector model before loading the CLEANIR model.\n",
    "If not, we will see the error that says \"out of memory\""
   ]
  },
  {
   "cell_type": "code",
   "execution_count": 3,
   "metadata": {},
   "outputs": [
    {
     "data": {
      "text/plain": [
       "<matplotlib.image.AxesImage at 0x7ff3e1643780>"
      ]
     },
     "execution_count": 3,
     "metadata": {},
     "output_type": "execute_result"
    },
    {
     "data": {
      "image/png": "[encoded data removed]",
      "text/plain": [
       "<Figure size 432x288 with 1 Axes>"
      ]
     },
     "metadata": {
      "needs_background": "light"
     },
     "output_type": "display_data"
    }
   ],
   "source": [
    "dsize = (64, 64)\n",
    "img_path = './data/ld.jpg'\n",
    "face_img = crop_face_from_file(img_path, dsize)\n",
    "plt.imshow(face_img)"
   ]
  },
  {
   "cell_type": "markdown",
   "metadata": {},
   "source": [
    "# Download CLEANIR model\n",
    "Using the below cell's code, you may download CLEANIR model.\n",
    "If you have the model already, you can skip this step."
   ]
  },
  {
   "cell_type": "code",
   "execution_count": 4,
   "metadata": {},
   "outputs": [
    {
     "name": "stderr",
     "output_type": "stream",
     "text": [
      "Downloading...\n",
      "From: https://drive.google.com/uc?id=1sEVj4hpM2xWEc3E3XWKMCOyv4HQv3zJI\n",
      "To: /workspace/sdata/dclib/cleanir2/model/cleanir_model.zip\n",
      "78.7MB [00:21, 3.62MB/s]\n"
     ]
    }
   ],
   "source": [
    "from cleanir.tools.get_model import *\n",
    "get_cleanir_model(MODEL_PATH)"
   ]
  },
  {
   "cell_type": "markdown",
   "metadata": {},
   "source": [
    "# Load the model\n",
    "This is the necessary step to run cells below."
   ]
  },
  {
   "cell_type": "code",
   "execution_count": 4,
   "metadata": {},
   "outputs": [
    {
     "name": "stdout",
     "output_type": "stream",
     "text": [
      "WARNING:tensorflow:From /usr/local/lib/python3.5/dist-packages/tensorflow/python/framework/op_def_library.py:263: colocate_with (from tensorflow.python.framework.ops) is deprecated and will be removed in a future version.\n",
      "Instructions for updating:\n",
      "Colocations handled automatically by placer.\n"
     ]
    },
    {
     "data": {
      "text/plain": [
       "True"
      ]
     },
     "execution_count": 4,
     "metadata": {},
     "output_type": "execute_result"
    }
   ],
   "source": [
    "cleanir = Cleanir()\n",
    "cleanir.load_models(MODEL_PATH)"
   ]
  },
  {
   "cell_type": "markdown",
   "metadata": {},
   "source": [
    "# Play with a sample image"
   ]
  },
  {
   "cell_type": "code",
   "execution_count": 5,
   "metadata": {},
   "outputs": [
    {
     "data": {
      "application/vnd.jupyter.widget-view+json": {
       "model_id": "b516c57cb20e479b80910aa9a3790cbb",
       "version_major": 2,
       "version_minor": 0
      },
      "text/plain": [
       "interactive(children=(IntSlider(value=0, description='d', max=180), Output()), _dom_classes=('widget-interact'…"
      ]
     },
     "metadata": {},
     "output_type": "display_data"
    }
   ],
   "source": [
    "deid = cleanir.get_deid_single_axis_func(face_img)\n",
    "_ = interact(lambda d: plt.imshow(deid(d)), d=widgets.IntSlider(min=0, max=180, step=1, value=0))"
   ]
  },
  {
   "cell_type": "markdown",
   "metadata": {},
   "source": [
    "# Evaluation on de-identification\n",
    "## Download the LFW dataset\n",
    "Using the below cell's code, you may download the LFW dataset.\n",
    "If you have the dataset already, you can skip that."
   ]
  },
  {
   "cell_type": "code",
   "execution_count": 7,
   "metadata": {},
   "outputs": [
    {
     "name": "stderr",
     "output_type": "stream",
     "text": [
      "/usr/local/lib/python3.5/dist-packages/tqdm/autonotebook/__init__.py:18: TqdmExperimentalWarning: Using `tqdm.autonotebook.tqdm` in notebook mode. Use `tqdm.tqdm` instead to force console mode (e.g. in jupyter console)\n",
      "  \" (e.g. in jupyter console)\", TqdmExperimentalWarning)\n"
     ]
    },
    {
     "data": {
      "application/vnd.jupyter.widget-view+json": {
       "model_id": "ef937c0a122349c3b44578dd1c3d30ca",
       "version_major": 2,
       "version_minor": 0
      },
      "text/plain": [
       "HBox(children=(IntProgress(value=0, description='pairs.txt', max=155335, style=ProgressStyle(description_width…"
      ]
     },
     "metadata": {},
     "output_type": "display_data"
    },
    {
     "name": "stdout",
     "output_type": "stream",
     "text": [
      "\n"
     ]
    },
    {
     "data": {
      "application/vnd.jupyter.widget-view+json": {
       "model_id": "23b8283b7b194b3b99210c229f635e39",
       "version_major": 2,
       "version_minor": 0
      },
      "text/plain": [
       "HBox(children=(IntProgress(value=0, description='lfw-deepfunneled.tgz', max=108761145, style=ProgressStyle(des…"
      ]
     },
     "metadata": {},
     "output_type": "display_data"
    },
    {
     "name": "stdout",
     "output_type": "stream",
     "text": [
      "\n"
     ]
    }
   ],
   "source": [
    "from cleanir.tools.get_dataset import *\n",
    "download_lfw(LFW_PATH)"
   ]
  },
  {
   "cell_type": "markdown",
   "metadata": {},
   "source": [
    "## Run evaluation codes"
   ]
  },
  {
   "cell_type": "code",
   "execution_count": 6,
   "metadata": {},
   "outputs": [
    {
     "name": "stdout",
     "output_type": "stream",
     "text": [
      "Reading LFW dataset pair information..\n"
     ]
    },
    {
     "name": "stderr",
     "output_type": "stream",
     "text": [
      "/usr/local/lib/python3.5/dist-packages/tqdm/autonotebook/__init__.py:18: TqdmExperimentalWarning: Using `tqdm.autonotebook.tqdm` in notebook mode. Use `tqdm.tqdm` instead to force console mode (e.g. in jupyter console)\n",
      "  \" (e.g. in jupyter console)\", TqdmExperimentalWarning)\n"
     ]
    },
    {
     "data": {
      "application/vnd.jupyter.widget-view+json": {
       "model_id": "825077cea56f43789e18efd253c2bbe2",
       "version_major": 2,
       "version_minor": 0
      },
      "text/plain": [
       "HBox(children=(IntProgress(value=0, max=10), HTML(value='')))"
      ]
     },
     "metadata": {},
     "output_type": "display_data"
    },
    {
     "name": "stdout",
     "output_type": "stream",
     "text": [
      "\n",
      "Loading FaceNet..\n",
      "WARNING:tensorflow:From /usr/local/lib/python3.5/dist-packages/keras/backend/tensorflow_backend.py:3445: calling dropout (from tensorflow.python.ops.nn_ops) with keep_prob is deprecated and will be removed in a future version.\n",
      "Instructions for updating:\n",
      "Please use `rate` instead of `keep_prob`. Rate should be set to `rate = 1 - keep_prob`.\n",
      "Loading and modifying LFW dataset images..\n"
     ]
    },
    {
     "data": {
      "application/vnd.jupyter.widget-view+json": {
       "model_id": "ae25a415355f4c77bea401cfb7c10f4f",
       "version_major": 2,
       "version_minor": 0
      },
      "text/plain": [
       "HBox(children=(IntProgress(value=0, max=3000), HTML(value='')))"
      ]
     },
     "metadata": {},
     "output_type": "display_data"
    },
    {
     "name": "stdout",
     "output_type": "stream",
     "text": [
      "\n",
      "Thresholding..\n"
     ]
    },
    {
     "data": {
      "application/vnd.jupyter.widget-view+json": {
       "model_id": "5e3b520d6c9044e69ea2efa00a528334",
       "version_major": 2,
       "version_minor": 0
      },
      "text/plain": [
       "HBox(children=(IntProgress(value=0, max=19), HTML(value='')))"
      ]
     },
     "metadata": {},
     "output_type": "display_data"
    },
    {
     "name": "stdout",
     "output_type": "stream",
     "text": [
      "\n"
     ]
    },
    {
     "data": {
      "text/html": [
       "<div>\n",
       "<style scoped>\n",
       "    .dataframe tbody tr th:only-of-type {\n",
       "        vertical-align: middle;\n",
       "    }\n",
       "\n",
       "    .dataframe tbody tr th {\n",
       "        vertical-align: top;\n",
       "    }\n",
       "\n",
       "    .dataframe thead th {\n",
       "        text-align: right;\n",
       "    }\n",
       "</style>\n",
       "<table border=\"1\" class=\"dataframe\">\n",
       "  <thead>\n",
       "    <tr style=\"text-align: right;\">\n",
       "      <th></th>\n",
       "      <th>threshold</th>\n",
       "      <th>original</th>\n",
       "      <th>0</th>\n",
       "      <th>30</th>\n",
       "      <th>60</th>\n",
       "      <th>90</th>\n",
       "      <th>120</th>\n",
       "      <th>150</th>\n",
       "      <th>180</th>\n",
       "    </tr>\n",
       "  </thead>\n",
       "  <tbody>\n",
       "    <tr>\n",
       "      <th>0</th>\n",
       "      <td>0.1</td>\n",
       "      <td>0.017333</td>\n",
       "      <td>0.000000</td>\n",
       "      <td>0.000000</td>\n",
       "      <td>0.000000</td>\n",
       "      <td>0.000000</td>\n",
       "      <td>0.000000</td>\n",
       "      <td>0.000000</td>\n",
       "      <td>0.000000</td>\n",
       "    </tr>\n",
       "    <tr>\n",
       "      <th>1</th>\n",
       "      <td>0.2</td>\n",
       "      <td>0.214667</td>\n",
       "      <td>0.014333</td>\n",
       "      <td>0.006667</td>\n",
       "      <td>0.000333</td>\n",
       "      <td>0.000000</td>\n",
       "      <td>0.000000</td>\n",
       "      <td>0.000000</td>\n",
       "      <td>0.000000</td>\n",
       "    </tr>\n",
       "    <tr>\n",
       "      <th>2</th>\n",
       "      <td>0.3</td>\n",
       "      <td>0.524000</td>\n",
       "      <td>0.110333</td>\n",
       "      <td>0.086667</td>\n",
       "      <td>0.014000</td>\n",
       "      <td>0.000000</td>\n",
       "      <td>0.000000</td>\n",
       "      <td>0.000000</td>\n",
       "      <td>0.000000</td>\n",
       "    </tr>\n",
       "    <tr>\n",
       "      <th>3</th>\n",
       "      <td>0.4</td>\n",
       "      <td>0.762667</td>\n",
       "      <td>0.340333</td>\n",
       "      <td>0.293333</td>\n",
       "      <td>0.100667</td>\n",
       "      <td>0.002000</td>\n",
       "      <td>0.000000</td>\n",
       "      <td>0.000000</td>\n",
       "      <td>0.000000</td>\n",
       "    </tr>\n",
       "    <tr>\n",
       "      <th>4</th>\n",
       "      <td>0.5</td>\n",
       "      <td>0.905333</td>\n",
       "      <td>0.599667</td>\n",
       "      <td>0.558667</td>\n",
       "      <td>0.309667</td>\n",
       "      <td>0.016667</td>\n",
       "      <td>0.000333</td>\n",
       "      <td>0.000000</td>\n",
       "      <td>0.000000</td>\n",
       "    </tr>\n",
       "    <tr>\n",
       "      <th>5</th>\n",
       "      <td>0.6</td>\n",
       "      <td>0.963333</td>\n",
       "      <td>0.797333</td>\n",
       "      <td>0.770667</td>\n",
       "      <td>0.576000</td>\n",
       "      <td>0.080000</td>\n",
       "      <td>0.001333</td>\n",
       "      <td>0.000000</td>\n",
       "      <td>0.000000</td>\n",
       "    </tr>\n",
       "    <tr>\n",
       "      <th>6</th>\n",
       "      <td>0.7</td>\n",
       "      <td>0.984000</td>\n",
       "      <td>0.911000</td>\n",
       "      <td>0.900000</td>\n",
       "      <td>0.791667</td>\n",
       "      <td>0.226333</td>\n",
       "      <td>0.011000</td>\n",
       "      <td>0.001000</td>\n",
       "      <td>0.000667</td>\n",
       "    </tr>\n",
       "    <tr>\n",
       "      <th>7</th>\n",
       "      <td>0.8</td>\n",
       "      <td>0.990333</td>\n",
       "      <td>0.964667</td>\n",
       "      <td>0.962333</td>\n",
       "      <td>0.920000</td>\n",
       "      <td>0.454333</td>\n",
       "      <td>0.046333</td>\n",
       "      <td>0.007667</td>\n",
       "      <td>0.005333</td>\n",
       "    </tr>\n",
       "    <tr>\n",
       "      <th>8</th>\n",
       "      <td>0.9</td>\n",
       "      <td>0.994000</td>\n",
       "      <td>0.985667</td>\n",
       "      <td>0.985000</td>\n",
       "      <td>0.970333</td>\n",
       "      <td>0.693333</td>\n",
       "      <td>0.123333</td>\n",
       "      <td>0.028667</td>\n",
       "      <td>0.020667</td>\n",
       "    </tr>\n",
       "    <tr>\n",
       "      <th>9</th>\n",
       "      <td>1.0</td>\n",
       "      <td>0.997667</td>\n",
       "      <td>0.995667</td>\n",
       "      <td>0.995333</td>\n",
       "      <td>0.991000</td>\n",
       "      <td>0.877333</td>\n",
       "      <td>0.284667</td>\n",
       "      <td>0.086333</td>\n",
       "      <td>0.062000</td>\n",
       "    </tr>\n",
       "    <tr>\n",
       "      <th>10</th>\n",
       "      <td>1.1</td>\n",
       "      <td>0.998333</td>\n",
       "      <td>0.998000</td>\n",
       "      <td>0.997667</td>\n",
       "      <td>0.997333</td>\n",
       "      <td>0.968667</td>\n",
       "      <td>0.512667</td>\n",
       "      <td>0.218667</td>\n",
       "      <td>0.161667</td>\n",
       "    </tr>\n",
       "    <tr>\n",
       "      <th>11</th>\n",
       "      <td>1.2</td>\n",
       "      <td>0.999333</td>\n",
       "      <td>0.999333</td>\n",
       "      <td>0.999333</td>\n",
       "      <td>1.000000</td>\n",
       "      <td>0.994000</td>\n",
       "      <td>0.730333</td>\n",
       "      <td>0.420333</td>\n",
       "      <td>0.340000</td>\n",
       "    </tr>\n",
       "    <tr>\n",
       "      <th>12</th>\n",
       "      <td>1.3</td>\n",
       "      <td>1.000000</td>\n",
       "      <td>1.000000</td>\n",
       "      <td>1.000000</td>\n",
       "      <td>1.000000</td>\n",
       "      <td>0.999667</td>\n",
       "      <td>0.902667</td>\n",
       "      <td>0.653000</td>\n",
       "      <td>0.568667</td>\n",
       "    </tr>\n",
       "    <tr>\n",
       "      <th>13</th>\n",
       "      <td>1.4</td>\n",
       "      <td>1.000000</td>\n",
       "      <td>1.000000</td>\n",
       "      <td>1.000000</td>\n",
       "      <td>1.000000</td>\n",
       "      <td>1.000000</td>\n",
       "      <td>0.980667</td>\n",
       "      <td>0.854000</td>\n",
       "      <td>0.785000</td>\n",
       "    </tr>\n",
       "    <tr>\n",
       "      <th>14</th>\n",
       "      <td>1.5</td>\n",
       "      <td>1.000000</td>\n",
       "      <td>1.000000</td>\n",
       "      <td>1.000000</td>\n",
       "      <td>1.000000</td>\n",
       "      <td>1.000000</td>\n",
       "      <td>0.997000</td>\n",
       "      <td>0.959667</td>\n",
       "      <td>0.938333</td>\n",
       "    </tr>\n",
       "    <tr>\n",
       "      <th>15</th>\n",
       "      <td>1.6</td>\n",
       "      <td>1.000000</td>\n",
       "      <td>1.000000</td>\n",
       "      <td>1.000000</td>\n",
       "      <td>1.000000</td>\n",
       "      <td>1.000000</td>\n",
       "      <td>0.999667</td>\n",
       "      <td>0.997333</td>\n",
       "      <td>0.994000</td>\n",
       "    </tr>\n",
       "    <tr>\n",
       "      <th>16</th>\n",
       "      <td>1.7</td>\n",
       "      <td>1.000000</td>\n",
       "      <td>1.000000</td>\n",
       "      <td>1.000000</td>\n",
       "      <td>1.000000</td>\n",
       "      <td>1.000000</td>\n",
       "      <td>1.000000</td>\n",
       "      <td>1.000000</td>\n",
       "      <td>1.000000</td>\n",
       "    </tr>\n",
       "    <tr>\n",
       "      <th>17</th>\n",
       "      <td>1.8</td>\n",
       "      <td>1.000000</td>\n",
       "      <td>1.000000</td>\n",
       "      <td>1.000000</td>\n",
       "      <td>1.000000</td>\n",
       "      <td>1.000000</td>\n",
       "      <td>1.000000</td>\n",
       "      <td>1.000000</td>\n",
       "      <td>1.000000</td>\n",
       "    </tr>\n",
       "    <tr>\n",
       "      <th>18</th>\n",
       "      <td>1.9</td>\n",
       "      <td>1.000000</td>\n",
       "      <td>1.000000</td>\n",
       "      <td>1.000000</td>\n",
       "      <td>1.000000</td>\n",
       "      <td>1.000000</td>\n",
       "      <td>1.000000</td>\n",
       "      <td>1.000000</td>\n",
       "      <td>1.000000</td>\n",
       "    </tr>\n",
       "  </tbody>\n",
       "</table>\n",
       "</div>"
      ],
      "text/plain": [
       "    threshold  original         0        30        60        90       120  \\\n",
       "0         0.1  0.017333  0.000000  0.000000  0.000000  0.000000  0.000000   \n",
       "1         0.2  0.214667  0.014333  0.006667  0.000333  0.000000  0.000000   \n",
       "2         0.3  0.524000  0.110333  0.086667  0.014000  0.000000  0.000000   \n",
       "3         0.4  0.762667  0.340333  0.293333  0.100667  0.002000  0.000000   \n",
       "4         0.5  0.905333  0.599667  0.558667  0.309667  0.016667  0.000333   \n",
       "5         0.6  0.963333  0.797333  0.770667  0.576000  0.080000  0.001333   \n",
       "6         0.7  0.984000  0.911000  0.900000  0.791667  0.226333  0.011000   \n",
       "7         0.8  0.990333  0.964667  0.962333  0.920000  0.454333  0.046333   \n",
       "8         0.9  0.994000  0.985667  0.985000  0.970333  0.693333  0.123333   \n",
       "9         1.0  0.997667  0.995667  0.995333  0.991000  0.877333  0.284667   \n",
       "10        1.1  0.998333  0.998000  0.997667  0.997333  0.968667  0.512667   \n",
       "11        1.2  0.999333  0.999333  0.999333  1.000000  0.994000  0.730333   \n",
       "12        1.3  1.000000  1.000000  1.000000  1.000000  0.999667  0.902667   \n",
       "13        1.4  1.000000  1.000000  1.000000  1.000000  1.000000  0.980667   \n",
       "14        1.5  1.000000  1.000000  1.000000  1.000000  1.000000  0.997000   \n",
       "15        1.6  1.000000  1.000000  1.000000  1.000000  1.000000  0.999667   \n",
       "16        1.7  1.000000  1.000000  1.000000  1.000000  1.000000  1.000000   \n",
       "17        1.8  1.000000  1.000000  1.000000  1.000000  1.000000  1.000000   \n",
       "18        1.9  1.000000  1.000000  1.000000  1.000000  1.000000  1.000000   \n",
       "\n",
       "         150       180  \n",
       "0   0.000000  0.000000  \n",
       "1   0.000000  0.000000  \n",
       "2   0.000000  0.000000  \n",
       "3   0.000000  0.000000  \n",
       "4   0.000000  0.000000  \n",
       "5   0.000000  0.000000  \n",
       "6   0.001000  0.000667  \n",
       "7   0.007667  0.005333  \n",
       "8   0.028667  0.020667  \n",
       "9   0.086333  0.062000  \n",
       "10  0.218667  0.161667  \n",
       "11  0.420333  0.340000  \n",
       "12  0.653000  0.568667  \n",
       "13  0.854000  0.785000  \n",
       "14  0.959667  0.938333  \n",
       "15  0.997333  0.994000  \n",
       "16  1.000000  1.000000  \n",
       "17  1.000000  1.000000  \n",
       "18  1.000000  1.000000  "
      ]
     },
     "execution_count": 6,
     "metadata": {},
     "output_type": "execute_result"
    }
   ],
   "source": [
    "from cleanir.evaluation_lfw import *\n",
    "res = evaluate_id_lfw(LFW_PATH, cleanir)\n",
    "df_res = pd.DataFrame(res)\n",
    "df_res.reindex(columns=['threshold', 'original', '0', '30', '60', '90', '120', '150', '180'])"
   ]
  },
  {
   "cell_type": "markdown",
   "metadata": {},
   "source": [
    "# Evaluation on preserving facial attributes\n",
    "## Download the JAFFE dataset\n",
    "Using the below cell's codes, you may download the JAFFE dataset.\n",
    "If you have the dataset already, you can skip this step."
   ]
  },
  {
   "cell_type": "code",
   "execution_count": 7,
   "metadata": {},
   "outputs": [
    {
     "data": {
      "application/vnd.jupyter.widget-view+json": {
       "model_id": "9cef2b67c0d9467786a3117ea81fd36d",
       "version_major": 2,
       "version_minor": 0
      },
      "text/plain": [
       "HBox(children=(IntProgress(value=0, description='jaffedbase.zip', max=12242135, style=ProgressStyle(descriptio…"
      ]
     },
     "metadata": {},
     "output_type": "display_data"
    },
    {
     "name": "stdout",
     "output_type": "stream",
     "text": [
      "\n"
     ]
    }
   ],
   "source": [
    "from cleanir.tools.get_dataset import *\n",
    "download_jaffe(JAFFE_PATH)"
   ]
  },
  {
   "cell_type": "markdown",
   "metadata": {},
   "source": [
    "## Put endpoint and key of the Azure API  \n",
    "If you want to use the [Azure Face API](https://azure.microsoft.com/en-us/services/cognitive-services/face/), you should make an account and get endpoint and key.\n",
    "Don't worry about the cost. They have free plan (20 transactions per minute, 30,000 transactions per a month).\n",
    "Our evaluation needs 852 transactions. Therefore, the free plan is enough. But it will take a while."
   ]
  },
  {
   "cell_type": "code",
   "execution_count": 8,
   "metadata": {},
   "outputs": [],
   "source": [
    "ENDPOINT = \"\"\n",
    "KEY = \"\""
   ]
  },
  {
   "cell_type": "markdown",
   "metadata": {},
   "source": [
    "## Run evaluation codes"
   ]
  },
  {
   "cell_type": "code",
   "execution_count": null,
   "metadata": {},
   "outputs": [
    {
     "data": {
      "application/vnd.jupyter.widget-view+json": {
       "model_id": "c3ba7a322aa0434b825d226abc00ad77",
       "version_major": 2,
       "version_minor": 0
      },
      "text/plain": [
       "HBox(children=(IntProgress(value=0, max=213), HTML(value='')))"
      ]
     },
     "metadata": {},
     "output_type": "display_data"
    }
   ],
   "source": [
    "from cleanir.evaluation_jaffe import *\n",
    "import seaborn as sn\n",
    "\n",
    "cm_dict = evaluate_emotion_jaffe_azure(JAFFE_PATH, cleanir, ENDPOINT, KEY)\n",
    "for k, v in cm_dict.items():\n",
    "    sn.heatmap(v, annot=True, vmin=0, vmax=30, square=True, annot_kws={'size': 12}).set_title(k)\n",
    "    plt.show()"
   ]
  },
  {
   "cell_type": "code",
   "execution_count": null,
   "metadata": {},
   "outputs": [],
   "source": []
  }
 ],
 "metadata": {
  "kernelspec": {
   "display_name": "Python 3",
   "language": "python",
   "name": "python3"
  },
  "language_info": {
   "codemirror_mode": {
    "name": "ipython",
    "version": 3
   },
   "file_extension": ".py",
   "mimetype": "text/x-python",
   "name": "python",
   "nbconvert_exporter": "python",
   "pygments_lexer": "ipython3",
   "version": "3.5.2"
  }
 },
 "nbformat": 4,
 "nbformat_minor": 2
}
